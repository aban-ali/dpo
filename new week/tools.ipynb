{
 "cells": [
  {
   "cell_type": "code",
   "execution_count": null,
   "id": "42c36093",
   "metadata": {},
   "outputs": [],
   "source": [
    "from langchain_community.llms import HuggingFacePipeline\n",
    "from transformers import AutoTokenizer, AutoModelForCausalLM, pipeline\n",
    "from langchain_core.tools import tool\n",
    "from langchain_core.messages import HumanMessage, AIMessage\n",
    "from langgraph.graph import StateGraph, END\n",
    "from langchain.agents.format_scratchpad import format_to_openai_function_messages\n",
    "from langchain_core.runnables import Runnable\n",
    "from langchain.agents import ToolExecutor, AgentExecutor, RunnableAgent\n",
    "from langchain.agents.output_parsers import OpenAIFunctionsAgentOutputParser\n",
    "from langchain.agents.agent import create_openai_functions_agent\n",
    "from langchain_core.prompts import ChatPromptTemplate, MessagesPlaceholder\n",
    "from langchain.agents import Tool"
   ]
  },
  {
   "cell_type": "code",
   "execution_count": null,
   "id": "9141969d",
   "metadata": {},
   "outputs": [],
   "source": [
    "# Step 1: Define the tool\n",
    "@tool\n",
    "def calculator(expression: str) -> str:\n",
    "    \"\"\"Evaluates a basic mathematical expression like 2+3*4\"\"\"\n",
    "    try:\n",
    "        return str(eval(expression, {\"__builtins__\": {}}, {}))\n",
    "    except Exception as e:\n",
    "        return f\"Error: {e}\"\n",
    "\n",
    "tools = [Tool.from_function(calculator)]\n",
    "\n",
    "# Step 2: Load HuggingFace LLM (e.g., Mistral)\n",
    "model_id = \"mistralai/Mistral-7B-Instruct-v0.1\"\n",
    "tokenizer = AutoTokenizer.from_pretrained(model_id)\n",
    "model = AutoModelForCausalLM.from_pretrained(model_id, device_map=\"auto\", torch_dtype=\"auto\")\n",
    "\n",
    "hf_pipe = pipeline(\"text-generation\", model=model, tokenizer=tokenizer, max_new_tokens=512)\n",
    "llm = HuggingFacePipeline(pipeline=hf_pipe)\n",
    "\n",
    "# Step 3: Build the agent with OpenAI function calling style\n",
    "prompt = ChatPromptTemplate.from_messages([\n",
    "    (\"system\", \"You are a math assistant. Use the calculator tool when needed.\"),\n",
    "    MessagesPlaceholder(\"chat_history\"),\n",
    "    (\"human\", \"{input}\"),\n",
    "    MessagesPlaceholder(\"agent_scratchpad\"),\n",
    "])\n",
    "\n",
    "agent_runnable: Runnable = create_openai_functions_agent(llm, tools, prompt)\n",
    "agent_executor = AgentExecutor(agent=agent_runnable, tools=tools, verbose=True)\n",
    "\n",
    "# Step 4: LangGraph definition\n",
    "\n",
    "# Define state\n",
    "from typing import TypedDict, List\n",
    "\n",
    "class AgentState(TypedDict):\n",
    "    input: str\n",
    "    chat_history: List\n",
    "    agent_scratchpad: List\n",
    "    output: str\n",
    "\n",
    "# Agent node\n",
    "def agent_node(state: AgentState) -> AgentState:\n",
    "    result = agent_executor.invoke({\n",
    "        \"input\": state[\"input\"],\n",
    "        \"chat_history\": state[\"chat_history\"],\n",
    "        \"agent_scratchpad\": state[\"agent_scratchpad\"]\n",
    "    })\n",
    "    return {\n",
    "        \"input\": state[\"input\"],\n",
    "        \"chat_history\": state[\"chat_history\"] + [HumanMessage(content=state[\"input\"]), AIMessage(content=result[\"output\"])],\n",
    "        \"agent_scratchpad\": [],\n",
    "        \"output\": result[\"output\"]\n",
    "    }\n",
    "\n",
    "# Build the graph\n",
    "graph = StateGraph(AgentState)\n",
    "graph.add_node(\"agent\", agent_node)\n",
    "graph.set_entry_point(\"agent\")\n",
    "graph.set_finish_point(\"agent\")  # End after one full run (you can loop with conditions too)\n",
    "\n",
    "# Compile the graph\n",
    "runnable_graph = graph.compile()\n",
    "\n",
    "# Run it\n",
    "input_question = \"If I invest 3000 at 8% and 5000 at 12%, what is my total interest?\"\n",
    "result = runnable_graph.invoke({\n",
    "    \"input\": input_question,\n",
    "    \"chat_history\": [],\n",
    "    \"agent_scratchpad\": [],\n",
    "    \"output\": \"\"\n",
    "})\n",
    "\n",
    "print(\"\\nFinal Answer:\", result[\"output\"])\n"
   ]
  },
  {
   "cell_type": "markdown",
   "id": "b519eb40",
   "metadata": {},
   "source": [
    "---"
   ]
  },
  {
   "cell_type": "code",
   "execution_count": null,
   "id": "981153d3",
   "metadata": {},
   "outputs": [],
   "source": [
    "from transformers import AutoModelForCausalLM, AutoTokenizer\n",
    "import torch\n",
    "\n",
    "model_id = \"meta-llama/Llama-2-13b-chat-hf\"  # Or another 14B equivalent\n",
    "\n",
    "tokenizer = AutoTokenizer.from_pretrained(model_id)\n",
    "\n",
    "model = AutoModelForCausalLM.from_pretrained(\n",
    "    model_id,\n",
    "    # load_in_8bit=True,                 # For 8-bit\n",
    "    load_in_4bit=True,              # For 4-bit, use instead\n",
    "    device_map=\"auto\",\n",
    "    torch_dtype=torch.float16\n",
    ")\n",
    "\n",
    "inputs = tokenizer(\"Hello, how are you?\", return_tensors=\"pt\").to(\"cuda\")\n",
    "outputs = model.generate(**inputs, max_new_tokens=50)\n",
    "print(tokenizer.decode(outputs[0], skip_special_tokens=True))\n"
   ]
  },
  {
   "cell_type": "markdown",
   "id": "0759fdd4",
   "metadata": {},
   "source": [
    "---"
   ]
  },
  {
   "cell_type": "code",
   "execution_count": null,
   "id": "5e075f40",
   "metadata": {},
   "outputs": [],
   "source": [
    "pip install unsloth"
   ]
  },
  {
   "cell_type": "code",
   "execution_count": null,
   "id": "a033a53e",
   "metadata": {},
   "outputs": [],
   "source": [
    "from unsloth import FastLanguageModel\n",
    "from transformers import AutoTokenizer\n",
    "\n",
    "model, tokenizer = FastLanguageModel.from_pretrained(\n",
    "    model_name = \"unsloth/qwen2-14b\",      # Qwen3 is alias for Qwen2 14B\n",
    "    max_seq_length = 4096,\n",
    "    dtype = \"auto\",                        # or torch.float16\n",
    "    load_in_4bit = True                    # Loads in 4-bit with bitsandbytes\n",
    ")\n",
    "\n",
    "# Optional: Speed up\n",
    "FastLanguageModel.for_inference(model)\n",
    "\n",
    "# Test generation\n",
    "inputs = tokenizer(\"Write a short poem about AI:\", return_tensors=\"pt\").to(\"cuda\")\n",
    "outputs = model.generate(**inputs, max_new_tokens=50)\n",
    "print(tokenizer.decode(outputs[0]))\n"
   ]
  },
  {
   "cell_type": "markdown",
   "id": "4aef4f5d",
   "metadata": {},
   "source": [
    "---"
   ]
  },
  {
   "cell_type": "code",
   "execution_count": null,
   "id": "3dac16ad",
   "metadata": {},
   "outputs": [],
   "source": [
    "pip install git+https://github.com/huggingface/transformers.git\n",
    "pip install accelerate"
   ]
  },
  {
   "cell_type": "code",
   "execution_count": null,
   "id": "0bc544a6",
   "metadata": {},
   "outputs": [],
   "source": [
    "pip install bitsandbytes"
   ]
  },
  {
   "cell_type": "code",
   "execution_count": null,
   "id": "3645aed3",
   "metadata": {},
   "outputs": [],
   "source": [
    "from transformers import AutoTokenizer\n",
    "from transformers.quantizers import QuantoQuantizer\n",
    "\n",
    "model_id = \"Qwen/Qwen2-14B\"\n",
    "tokenizer = AutoTokenizer.from_pretrained(model_id)\n",
    "\n",
    "quantizer = QuantoQuantizer.from_pretrained(\n",
    "    model_id,\n",
    "    quantization_config={\"load_in_4bit\": True},\n",
    "    device_map=\"auto\",\n",
    "    torch_dtype=\"auto\"\n",
    ")\n",
    "\n",
    "model = quantizer.get_model()"
   ]
  },
  {
   "cell_type": "code",
   "execution_count": null,
   "id": "6fe43c1a",
   "metadata": {},
   "outputs": [],
   "source": []
  }
 ],
 "metadata": {
  "kernelspec": {
   "display_name": ".venv",
   "language": "python",
   "name": "python3"
  },
  "language_info": {
   "codemirror_mode": {
    "name": "ipython",
    "version": 3
   },
   "file_extension": ".py",
   "mimetype": "text/x-python",
   "name": "python",
   "nbconvert_exporter": "python",
   "pygments_lexer": "ipython3",
   "version": "3.11.9"
  }
 },
 "nbformat": 4,
 "nbformat_minor": 5
}
