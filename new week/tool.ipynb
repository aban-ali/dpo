{
 "cells": [
  {
   "cell_type": "code",
   "execution_count": null,
   "id": "fc9db374",
   "metadata": {},
   "outputs": [],
   "source": [
    "# !pip install -U --quiet langgraph bitsandbytes"
   ]
  },
  {
   "cell_type": "code",
   "execution_count": null,
   "id": "5b84f0d2",
   "metadata": {},
   "outputs": [],
   "source": [
    "from langchain_community.llms import HuggingFacePipeline\n",
    "from transformers import AutoTokenizer, AutoModelForCausalLM, pipeline\n",
    "from langchain_core.tools import tool\n",
    "from langchain_core.messages import HumanMessage, AIMessage\n",
    "from langgraph.graph import StateGraph, END\n",
    "from langchain.agents.format_scratchpad import format_to_openai_function_messages\n",
    "from langchain_core.runnables import Runnable\n",
    "from langchain.agents import AgentExecutor, initialize_agent\n",
    "from langchain.agents.output_parsers import OpenAIFunctionsAgentOutputParser\n",
    "from langchain.agents import create_openai_functions_agent\n",
    "from langchain_core.prompts import ChatPromptTemplate, MessagesPlaceholder\n",
    "from langchain.agents import Tool"
   ]
  },
  {
   "cell_type": "code",
   "execution_count": null,
   "id": "a323cd33",
   "metadata": {},
   "outputs": [],
   "source": [
    "# Step 1: Define the tool\n",
    "@tool\n",
    "def calculator(expression: str) -> str:\n",
    "    \"\"\"Evaluates a basic mathematical expression like 2+3*4\"\"\"\n",
    "    try:\n",
    "        return str(eval(expression, {\"__builtins__\": {}}, {}))\n",
    "    except Exception as e:\n",
    "        print(e)\n",
    "        return f\"Error: {e}\"\n",
    "\n",
    "tools = [Tool.from_function(calculator, calculator.name, calculator.description)]"
   ]
  },
  {
   "cell_type": "code",
   "execution_count": null,
   "id": "d8fffe6f",
   "metadata": {},
   "outputs": [],
   "source": [
    "# Step 2: Load HuggingFace LLM (e.g., Mistral)\n",
    "model_id = \"deepseek-ai/deepseek-math-7b-rl\"\n",
    "tokenizer = AutoTokenizer.from_pretrained(model_id)\n",
    "model = AutoModelForCausalLM.from_pretrained(model_id, device_map=\"auto\", torch_dtype=\"auto\")\n",
    "\n",
    "hf_pipe = pipeline(\"text-generation\", model=model, tokenizer=tokenizer, max_new_tokens=512)\n",
    "llm = HuggingFacePipeline(pipeline=hf_pipe)"
   ]
  },
  {
   "cell_type": "code",
   "execution_count": null,
   "id": "1bddf43c",
   "metadata": {},
   "outputs": [],
   "source": [
    "# Step 3: Build the agent with OpenAI function calling style\n",
    "prompt = ChatPromptTemplate.from_messages([\n",
    "    (\"system\", \"You are a expert mechanical engineer advisor. Use the calculator tool when needed.\"),\n",
    "    MessagesPlaceholder(\"chat_history\"),\n",
    "    (\"human\", \"{input}\"),\n",
    "    MessagesPlaceholder(\"agent_scratchpad\"),\n",
    "])\n",
    "\n",
    "# agent_runnable: Runnable = create_openai_functions_agent(llm, tools, prompt)\n",
    "# agent_executor = AgentExecutor(agent=agent_runnable, tools=tools, verbose=True)\n",
    "tools=[calculator]\n",
    "# llm.bind_tools(tools)\n",
    "agent=initialize_agent(\n",
    "    tools=tools,\n",
    "    llm=llm,\n",
    "    agent=\"conversational-react-description\",\n",
    "    verbose=True\n",
    ")"
   ]
  },
  {
   "cell_type": "code",
   "execution_count": null,
   "id": "18e0008e",
   "metadata": {},
   "outputs": [],
   "source": [
    "inp=\"What is the force exerted by a 10kg object due to gravity?\"\n",
    "agent.invoke({\"input\":inp,\"agent_scratchpad\":[],\"chat_history\":[]})"
   ]
  },
  {
   "cell_type": "code",
   "execution_count": null,
   "id": "cd318849",
   "metadata": {},
   "outputs": [],
   "source": [
    "\n",
    "# Step 4: LangGraph definition\n",
    "\n",
    "# Define state\n",
    "from typing import TypedDict, List\n",
    "\n",
    "class AgentState(TypedDict):\n",
    "    input: str\n",
    "    chat_history: List\n",
    "    agent_scratchpad: List\n",
    "    output: str\n",
    "\n",
    "# Agent node\n",
    "def agent_node(state: AgentState) -> AgentState:\n",
    "    result = agent.invoke({\n",
    "        \"input\": state[\"input\"],\n",
    "        \"chat_history\": state[\"chat_history\"],\n",
    "        \"agent_scratchpad\": state[\"agent_scratchpad\"]\n",
    "    })\n",
    "    return {\n",
    "        \"input\": state[\"input\"],\n",
    "        \"chat_history\": state[\"chat_history\"] + [HumanMessage(content=state[\"input\"]), AIMessage(content=result[\"output\"])],\n",
    "        \"agent_scratchpad\": [],\n",
    "        \"output\": result[\"output\"]\n",
    "    }\n",
    "\n",
    "# Build the graph\n",
    "graph = StateGraph(AgentState)\n",
    "graph.add_node(\"agent\", agent_node)\n",
    "graph.set_entry_point(\"agent\")\n",
    "graph.set_finish_point(\"agent\")  # End after one full run (you can loop with conditions too)\n",
    "\n",
    "# Compile the graph\n",
    "runnable_graph = graph.compile()\n",
    "\n",
    "# Run it\n",
    "input_question = \"If I invest 3000 at 8% and 5000 at 12%, what is my total interest?\"\n",
    "result = runnable_graph.invoke({\n",
    "    \"input\": input_question,\n",
    "    \"chat_history\": [],\n",
    "    \"agent_scratchpad\": [],\n",
    "    \"output\": \"\"\n",
    "})\n",
    "\n",
    "print(\"\\nFinal Answer:\", result[\"output\"])"
   ]
  }
 ],
 "metadata": {
  "language_info": {
   "name": "python"
  }
 },
 "nbformat": 4,
 "nbformat_minor": 5
}
