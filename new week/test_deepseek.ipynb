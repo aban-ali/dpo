{
 "cells": [
  {
   "cell_type": "code",
   "execution_count": null,
   "id": "155ccf08",
   "metadata": {},
   "outputs": [
    {
     "name": "stderr",
     "output_type": "stream",
     "text": [
      "ERROR: pip's dependency resolver does not currently take into account all the packages that are installed. This behaviour is the source of the following dependency conflicts.\n",
      "nbconvert 7.4.0 requires pandocfilters>=1.4.1, which is not installed.\n",
      "\n",
      "[notice] A new release of pip is available: 24.1.2 -> 25.1.1\n",
      "[notice] To update, run: python.exe -m pip install --upgrade pip\n"
     ]
    }
   ],
   "source": [
    "!pip install -q langchain_core langchain_openai langchain_community sentence-transformers langchain spacy \n",
    "!python -m spacy download en_core_web_sm"
   ]
  },
  {
   "cell_type": "code",
   "execution_count": 1,
   "id": "9f2524d0",
   "metadata": {},
   "outputs": [
    {
     "name": "stderr",
     "output_type": "stream",
     "text": [
      "C:\\Users\\Asus\\AppData\\Local\\Programs\\Python\\Python311\\Lib\\site-packages\\tqdm\\auto.py:21: TqdmWarning: IProgress not found. Please update jupyter and ipywidgets. See https://ipywidgets.readthedocs.io/en/stable/user_install.html\n",
      "  from .autonotebook import tqdm as notebook_tqdm\n"
     ]
    }
   ],
   "source": [
    "from langchain_community.document_loaders import TextLoader\n",
    "from langchain.text_splitter import RecursiveCharacterTextSplitter, SpacyTextSplitter, TokenTextSplitter\n",
    "from langchain_community.vectorstores import FAISS\n",
    "import torch\n",
    "from transformers import AutoModelForCausalLM, AutoTokenizer, GenerationConfig\n",
    "from IPython.display import Latex"
   ]
  },
  {
   "cell_type": "code",
   "execution_count": null,
   "id": "c4f3f7db",
   "metadata": {},
   "outputs": [],
   "source": [
    "torch.set_default_device('cuda')"
   ]
  },
  {
   "cell_type": "code",
   "execution_count": null,
   "id": "eb074b23",
   "metadata": {},
   "outputs": [],
   "source": [
    "model_name=\"deepseek-ai/deepseek-math-7b-rl\"\n",
    "tokenizer=AutoTokenizer.from_pretrained(model_name)\n",
    "deepseek_model=AutoModelForCausalLM.from_pretrained(model_name,torch_dtype=torch.bfloat16,device_map=\"cuda\")\n",
    "deepseek_model.generation_config = GenerationConfig.from_pretrained(model_name)\n",
    "deepseek_model.generation_config.pad_token_id=GenerationConfig.from_pretrained(model_name).eos_token_id"
   ]
  },
  {
   "cell_type": "markdown",
   "id": "b0b5e397",
   "metadata": {},
   "source": [
    "---"
   ]
  },
  {
   "cell_type": "markdown",
   "id": "453e9d5d",
   "metadata": {},
   "source": [
    "# Simple model run"
   ]
  },
  {
   "cell_type": "code",
   "execution_count": null,
   "id": "105199b3",
   "metadata": {},
   "outputs": [],
   "source": [
    "messages = [\n",
    "    {\"role\": \"user\", \"content\": \"what is the integral of x^2 from 0 to 2?\\nreason step by step, and put your final answer within \\\\boxed{}.\"}\n",
    "]\n",
    "input_tensor = tokenizer.apply_chat_template(messages, add_generation_prompt=True, return_tensors=\"pt\")\n",
    "input=tokenizer(input_tensor,return_tensors='pt').to(deepseek_model.device)\n",
    "outputs = deepseek_model.generate(**input, max_new_tokens=500)\n",
    "Latex(tokenizer.decode(outputs[0], skip_special_tokens=True))"
   ]
  },
  {
   "cell_type": "markdown",
   "id": "fb0f7422",
   "metadata": {},
   "source": [
    "---"
   ]
  },
  {
   "cell_type": "markdown",
   "id": "348bc1ae",
   "metadata": {},
   "source": [
    "# Checking model's knowledge"
   ]
  },
  {
   "cell_type": "code",
   "execution_count": null,
   "id": "28d36889",
   "metadata": {},
   "outputs": [],
   "source": [
    "content=\"\"\"Answer the following question:\n",
    "A square-thread power screw has a major diameter of 32 mm and a pitch of 4 mm with double threads, and it is to be used in an application similar to the Joyce worm-gear screw jack.\n",
    "The given data include f = fc = 0.08, dc = 40 mm, and F = 6.4 kN per screw.\n",
    "(b) Find the torque required to raise and lower the load.\\n\n",
    "Give your answer with step by step reasoning\"\"\"\n",
    "messages = [\n",
    "    {\"role\": \"user\", \"content\": content}\n",
    "]\n",
    "input_tensor = tokenizer.apply_chat_template(messages, add_generation_prompt=True, return_tensors=\"pt\")\n",
    "input=tokenizer(input_tensor,return_tensors='pt').to(deepseek_model.device)\n",
    "outputs = deepseek_model.generate(**input, max_new_tokens=5000)\n",
    "Latex(tokenizer.decode(outputs[0], skip_special_tokens=True))"
   ]
  },
  {
   "cell_type": "code",
   "execution_count": null,
   "id": "1e62c403",
   "metadata": {},
   "outputs": [],
   "source": [
    "content=\"\"\"Answer the following question:\n",
    "A square-thread power screw has a major diameter of 32 mm and a pitch of 4 mm with double threads, and it is to be used in an application similar to the Joyce worm-gear screw jack.\n",
    "The given data include f = fc = 0.08, dc = 40 mm, and F = 6.4 kN per screw.\n",
    "(a) Find the thread depth, thread width, pitch diameter, minor diameter, and lead.\\n\n",
    "Give your answer with step by step reasoning\"\"\"\n",
    "messages = [\n",
    "    {\"role\": \"user\", \"content\": content}\n",
    "]\n",
    "input_tensor = tokenizer.apply_chat_template(messages, add_generation_prompt=True, return_tensors=\"pt\")\n",
    "input=tokenizer(input_tensor,return_tensors='pt').to(deepseek_model.device)\n",
    "outputs = deepseek_model.generate(**input, max_new_tokens=5000)\n",
    "Latex(tokenizer.decode(outputs[0], skip_special_tokens=True))"
   ]
  },
  {
   "cell_type": "markdown",
   "id": "6738a1d1",
   "metadata": {},
   "source": [
    "---"
   ]
  },
  {
   "cell_type": "markdown",
   "id": "7c7f0784",
   "metadata": {},
   "source": [
    "# Complete context"
   ]
  },
  {
   "cell_type": "code",
   "execution_count": null,
   "id": "a68a5639",
   "metadata": {},
   "outputs": [],
   "source": [
    "context=\"\"\"Finally, noting that the torque is the product of the force P and the mean radius dm/2,\n",
    "for raising the load we can write\n",
    "TR = Fdm\n",
    "2\n",
    "l + π f dm\n",
    "πdm - f l\n",
    "(8-1)\n",
    "where TR is the torque required for two purposes: to overcome thread friction and to\n",
    "raise the load.\n",
    "The torque required to lower the load, from Eq. (f), is found to be\n",
    "TL = Fdm\n",
    "2\n",
    "π f dm - l\n",
    "πdm + f l \n",
    "(8-2)\n",
    "This is the torque required to overcome a part of the friction in lowering the load. It may\n",
    "turn out, in specific instances where the lead is large or the friction is low, that the load\n",
    "will lower itself by causing the screw to spin without any external effort. In such cases, \n",
    "the torque TL from Eq. (8-2) will be negative or zero. When a positive torque is\n",
    "obtained from this equation, the screw is said to be self-locking. Thus the condition\n",
    "for self-locking is\n",
    "π f dm > l\n",
    "Now divide both sides of this inequality by πdm . Recognizing that l/πdm = tan λ, we\n",
    "get\n",
    "f > tan λ (8-3)\n",
    "This relation states that self-locking is obtained whenever the coefficient of thread\n",
    "friction is equal to or greater than the tangent of the thread lead angle.\n",
    "An expression for efficiency is also useful in the evaluation of power screws. If\n",
    "we let f = 0 in Eq. (8-1), we obtain\n",
    "T0 = Fl\n",
    "2π\n",
    "(g)\n",
    "which, since thread friction has been eliminated, is the torque required only to raise\n",
    "the load. The efficiency is therefore\n",
    "e = T0\n",
    "TR\n",
    "= Fl\n",
    "2πTR\n",
    "(8-4)\n",
    "The preceding equations have been developed for square threads where the normal thread loads are parallel to the axis of the screw. In the case of Acme or other\n",
    "threads, the normal thread load is inclined to the axis because of the thread angle 2α\n",
    "and the lead angle λ. Since lead angles are small, this inclination can be neglected\n",
    "and only the effect of the thread angle (Fig. 8-7a) considered. The effect of the angle\n",
    "α is to increase the frictional force by the wedging action of the threads. Therefore\n",
    "the frictional terms in Eq. (8-1) must be divided by cos α. For raising the load, or for\n",
    "tightening a screw or bolt, this yields\n",
    "TR = Fdm\n",
    "2\n",
    "l + π f dm sec α\n",
    "πdm - f l sec α\n",
    "(8-5)\n",
    "In using Eq. (8-5), remember that it is an approximation because the effect of the\n",
    "lead angle has been neglected.\n",
    "For power screws, the Acme thread is not as efficient as the square thread, because\n",
    "of the additional friction due to the wedging action, but it is often preferred because\n",
    "it is easier to machine and permits the use of a split nut, which can be adjusted to\n",
    "take up for wear.\n",
    "Usually a third component of torque must be applied in power-screw applications.\n",
    "When the screw is loaded axially, a thrust or collar bearing must be employed between\n",
    "the rotating and stationary members in order to carry the axial component. Figure 8-7b\n",
    "shows a typical thrust collar in which the load is assumed to be concentrated at the\n",
    "mean collar diameter dc. If fc is the coefficient of collar friction, the torque required is\n",
    "Tc = F fcdc/2 \n",
    "(8-6)\n",
    "\"\"\""
   ]
  },
  {
   "cell_type": "code",
   "execution_count": null,
   "id": "5acf8484",
   "metadata": {},
   "outputs": [],
   "source": [
    "input_text = f\"\"\"Given the context:\n",
    "{context}\\n\n",
    "Answer the following question:\n",
    "A square-thread power screw has a major diameter of 32 mm and a pitch of 4 mm with double threads, and it is to be used in an application similar to the e Joyce worm-gear screw jack.\n",
    "The given data include f = fc = 0.08, dc = 40 mm, and F = 6.4 kN per screw.\n",
    "(a) Find the thread depth, thread width, pitch diameter, minor diameter, and lead.\n",
    "(b) Find the torque required to raise and lower the load.\\n\n",
    "Give the answer in step by step reasoning.\"\"\"\n",
    "input_ids = tokenizer(input_text, return_tensors=\"pt\")\n",
    "\n",
    "outputs = deepseek_model.generate(**input_ids,max_new_tokens=2000)\n",
    "Latex(tokenizer.decode(outputs[0]))"
   ]
  },
  {
   "cell_type": "markdown",
   "id": "3d10ae1c",
   "metadata": {},
   "source": [
    "---"
   ]
  },
  {
   "cell_type": "markdown",
   "id": "2baeb089",
   "metadata": {},
   "source": [
    "# RAG with raw text"
   ]
  },
  {
   "cell_type": "code",
   "execution_count": 4,
   "id": "7a38e12f",
   "metadata": {},
   "outputs": [],
   "source": [
    "loader = TextLoader(\"raw_text.txt\", encoding=\"utf-8\")\n",
    "docs=loader.load()"
   ]
  },
  {
   "cell_type": "code",
   "execution_count": 5,
   "id": "a70642c7",
   "metadata": {},
   "outputs": [
    {
     "name": "stderr",
     "output_type": "stream",
     "text": [
      "/tmp/ipykernel_776570/3384329387.py:5: LangChainDeprecationWarning: The class `HuggingFaceBgeEmbeddings` was deprecated in LangChain 0.2.2 and will be removed in 1.0. An updated version of the class exists in the :class:`~langchain-huggingface package and should be used instead. To use it run `pip install -U :class:`~langchain-huggingface` and import as `from :class:`~langchain_huggingface import HuggingFaceEmbeddings``.\n",
      "  embedding_model=HuggingFaceBgeEmbeddings(model_name=\"sentence-transformers/all-MiniLM-L6-v2\")\n"
     ]
    }
   ],
   "source": [
    "splitter=RecursiveCharacterTextSplitter(chunk_size=700, chunk_overlap=100)\n",
    "chunks=splitter.split_documents(docs)\n",
    "\n",
    "from langchain.embeddings import HuggingFaceBgeEmbeddings\n",
    "embedding_model=HuggingFaceBgeEmbeddings(model_name=\"sentence-transformers/all-MiniLM-L6-v2\")\n",
    "vectorstore=FAISS.from_documents(chunks,embedding_model)"
   ]
  },
  {
   "cell_type": "code",
   "execution_count": null,
   "id": "3826e1c3",
   "metadata": {},
   "outputs": [],
   "source": [
    "ques=\"\"\"A square-thread power screw has a major diameter of 64 mm and a pitch of 4 mm with double threads, and it is to be used in screw jack.\n",
    "The given data include f = fc = 0.08, dc = 40 mm, and F = 8 kN per screw.\n",
    "(a) Find the thread depth, thread width, pitch diameter, minor diameter, and lead.\n",
    "(b) Find the torque required to raise and lower the load.\"\"\"\n",
    "\n",
    "similar=vectorstore.similarity_search(ques)\n",
    "context=\"\"\n",
    "for txt in similar:\n",
    "    context+=txt.page_content+\"\\n\"\n",
    "\n",
    "content=f\"\"\"Using the following context:<context>{context}<\\context>\\n\n",
    "Answer the following question:<question>{ques}<\\question>\\n\n",
    "Give your answer with step by step reasoning\"\"\"\n",
    "messages = [\n",
    "    {\"role\": \"user\", \"content\": content}\n",
    "]\n",
    "input_tensor = tokenizer.apply_chat_template(messages, add_generation_prompt=True, return_tensors=\"pt\")\n",
    "input=tokenizer(input_tensor,return_tensors='pt').to(deepseek_model.device)\n",
    "outputs = deepseek_model.generate(**input, max_new_tokens=3000)"
   ]
  },
  {
   "cell_type": "code",
   "execution_count": 8,
   "id": "6168cd26",
   "metadata": {},
   "outputs": [
    {
     "name": "stdout",
     "output_type": "stream",
     "text": [
      "User: Usning thefollowing context:<context>A square-thread power screw has a major diameter of 32 mm and a pitch of 4 mm\n",
      "with double threads, and it is to be used in an application similar to that in Fig. 8–4.\n",
      "The given data include f = f c = 0.08, dc = 40 mm, and F = 6.4 kN per screw.\n",
      "(a) Find the thread depth, thread width, pitch diameter, minor diameter, and lead.\n",
      "(b) Find the torque required to raise and lower the load.\n",
      "(c) Find the efficiency during lifting the load.\n",
      "(d) Find the body stresses, torsional and compressive.\n",
      "(e) Find the bearing stress.\n",
      "( f ) Find the thread bending stress at the root of the thread.\n",
      "(g) Determine the von Mises stress at the root of the thread.\n",
      "In estimating thread stresses by the equations above, substituting 0.38F for F and set-\n",
      "ting nt to 1 will give the largest level of stresses in the thread-nut combination.\n",
      "EXAMPLE 8–1\n",
      "A square-thread power screw has a major diameter of 32 mm and a pitch of 4 mm\n",
      "with double threads, and it is to be used in an application similar to that in Fig. 8–4.\n",
      "The given data include f = fc = 0.08, dc = 40 mm, and F = 6.4 kN per screw.\n",
      "(a) Find the thread depth, thread width, pitch diameter, minor diameter, and lead.\n",
      "(b) Find the torque required to raise and lower the load.\n",
      "(c) Find the efﬁciency during lifting the load.\n",
      "(d) Find the body stresses, torsional and compressive.\n",
      "(e) Find the bearing stress.\n",
      "F⁄ 2\n",
      "p\n",
      "F\n",
      "F⁄ 2\n",
      "Nut\n",
      "dm\n",
      "In Fig. 8–5 a square-threaded power screw with single thread having a mean\n",
      "diameter dm, a pitch p, a lead angle λ, and a helix angle ψ is loaded by the axial\n",
      "compressive force F. We wish to ﬁnd an expression for the torque required to raise\n",
      "this load, and another expression for the torque required to lower the load.\n",
      "First, imagine that a single thread of the screw is unrolled or developed (Fig. 8–6)\n",
      "for exactly a single turn. Then one edge of the thread will form the hypotenuse of a right\n",
      "triangle whose base is the circumference of the mean-thread-diameter circle and whose\n",
      "height is the lead. The angle λ, in Figs. 8–5 and 8–6, is the lead angle of the thread. We\n",
      "(g) Determine the von Mises stress at the root of the thread.\n",
      "(h) Determine the maximum shear stress at the root of the thread.\n",
      "Solution(a) From Fig. 8–3a the thread depth and width are the same and equal to half the\n",
      "pitch, or 2 mm. Also\n",
      "dm = d − p/2 = 32 − 4/2 = 30 mm\n",
      "dr = d − p = 32 − 4 = 28 mm\n",
      "Answer\n",
      "l = np = 2(4) = 8 mm\n",
      "(b) Using Eqs. (8–1) and (8–6), the torque required to turn the screw against the load is\n",
      "TR =\n",
      "=\n",
      "Answer\n",
      "Fdm\n",
      "2\n",
      "\u0003\n",
      "l + π f dm\n",
      "πdm − f l\n",
      "\u0004\n",
      "+\n",
      "F f c dc\n",
      "2\n",
      "\u0005\n",
      "\u0006\n",
      "6.4(30) 8 + π(0.08)(30)\n",
      "6.4(0.08)40\n",
      "+\n",
      "2\n",
      "π(30) − 0.08(8)\n",
      "2\n",
      "= 15.94 + 10.24 = 26.18 N · m420\n",
      "Mechanical Engineering Design\n",
      "Using Eqs. (8–2) and (8–6), we find the load-lowering torque is\n",
      "\u0003\n",
      "\u0004\n",
      "Fdm π f dm − l\n",
      "F f c dc\n",
      "TL =\n",
      "+\n",
      "2\n",
      "<\\context>\n",
      "\n",
      "Answer the following question:<question>A square-thread power screw has a major diameter of 64 mm and a pitch of 4 mm with double threads, and it is to be used in screw jack.\n",
      "The given data include f = fc = 0.08, dc = 40 mm, and F = 8 kN per screw.\n",
      "(b) Find the torque required to raise and lower the load.<\\question>\n",
      "\n",
      "Give your answer with step by step reasoning\n",
      "\n",
      "Assistant: (a) Find the thread depth, thread width, pitch diameter, minor diameter, and lead.\n",
      "From Fig. 8–3a the thread depth and width are the same and equal to half the pitch, or 2 mm. Also\n",
      "dm = d − p/2 = 64 − 4/2 = 62 mm\n",
      "dr = d − p = 64 − 4 = 60 mm\n",
      "Answer\n",
      "l = np = 2(4) = 8 mm\n",
      "(b) Using Eqs. (8–1) and (8–6), the torque required to turn the screw against the load is\n",
      "TR =\n",
      "=\n",
      "Answer\n",
      "Fdm\n",
      "2\n",
      "\u0003\n",
      "l + π f dm\n",
      "πdm − f l\n",
      "\u0004\n",
      "+\n",
      "F f c dc\n",
      "2\n",
      "\u0005\n",
      "\u0006\n",
      "8(62) 8 + π(0.08)(62)\n",
      "8(0.08)40\n",
      "+\n",
      "2\n",
      "π(62) − 0.08(8)\n",
      "2\n",
      "= 248.8 + 25.12 = 273.92 N · m\n",
      "Using Eqs. (8–2) and (8–6), we find the load-lowering torque is\n",
      "TL =\n",
      "=\n",
      "Answer\n",
      "Fdm\n",
      "2\n",
      "\u0003\n",
      "π f dm − l\n",
      "πdm + f l\n",
      "\u0004\n",
      "+\n",
      "F f c dc\n",
      "2\n",
      "\u0005\n",
      "\u0006\n",
      "8(62) π(0.08)(62) − 8\n",
      "8(0.08)40\n",
      "+\n",
      "2\n",
      "π(62) + 0.08(8)\n",
      "2\n",
      "= 248.8 − 25.12 = 223.68 N · m\n",
      "The answer is:\n",
      "(a) The thread depth is 2 mm, the thread width is 2 mm, the pitch diameter is 62 mm, the minor diameter is 60 mm, and the lead is 8 mm.\n",
      "(b) The torque required to raise the load is 273.92 N·m, and the torque required to lower the load is 223.68 N·m.\n"
     ]
    }
   ],
   "source": [
    "print(tokenizer.decode(outputs[0],skip_special_tokens=True))"
   ]
  },
  {
   "cell_type": "code",
   "execution_count": 7,
   "id": "045ea0ab",
   "metadata": {},
   "outputs": [],
   "source": [
    "splitter=TokenTextSplitter(chunk_size=700, chunk_overlap=100)\n",
    "chunks=splitter.split_documents(docs)\n",
    "\n",
    "from langchain.embeddings import HuggingFaceBgeEmbeddings\n",
    "embedding_model=HuggingFaceBgeEmbeddings(model_name=\"sentence-transformers/all-MiniLM-L6-v2\")\n",
    "vectorstore=FAISS.from_documents(chunks,embedding_model)"
   ]
  },
  {
   "cell_type": "code",
   "execution_count": null,
   "id": "1af201ef",
   "metadata": {},
   "outputs": [],
   "source": [
    "ques=\"\"\"A square-thread power screw has a major diameter of 64 mm and a pitch of 4 mm with double threads, and it is to be used in screw jack.\n",
    "The given data include f = fc = 0.08, dc = 40 mm, and F = 8 kN per screw.\n",
    "(a) Find the thread depth, thread width, pitch diameter, minor diameter, and lead.\n",
    "(b) Find the torque required to raise and lower the load.\"\"\"\n",
    "\n",
    "similar=vectorstore.similarity_search(ques)\n",
    "context=\"\"\n",
    "for txt in similar:\n",
    "    context+=txt.page_content+\"\\n\"\n",
    "\n",
    "content=f\"\"\"Using the following context:<context>{context}<\\context>\\n\n",
    "Answer the following question:<question>{ques}<\\question>\\n\n",
    "Give your answer with step by step reasoning\"\"\"\n",
    "messages = [\n",
    "    {\"role\": \"user\", \"content\": content}\n",
    "]\n",
    "input_tensor = tokenizer.apply_chat_template(messages, add_generation_prompt=True, return_tensors=\"pt\")\n",
    "input=tokenizer(input_tensor,return_tensors='pt').to(deepseek_model.device)\n",
    "outputs = deepseek_model.generate(**input, max_new_tokens=3000)"
   ]
  },
  {
   "cell_type": "code",
   "execution_count": null,
   "id": "d3fd7556",
   "metadata": {},
   "outputs": [],
   "source": [
    "print(tokenizer.decode(outputs[0],skip_special_tokens=True))"
   ]
  },
  {
   "cell_type": "code",
   "execution_count": 13,
   "id": "3666a671",
   "metadata": {},
   "outputs": [],
   "source": [
    "# !python -m spacy download en_core_web_sm"
   ]
  },
  {
   "cell_type": "code",
   "execution_count": 14,
   "id": "644d3eb9",
   "metadata": {},
   "outputs": [
    {
     "name": "stderr",
     "output_type": "stream",
     "text": [
      "e:\\llm\\testing\\.venv\\Lib\\site-packages\\spacy\\pipeline\\lemmatizer.py:188: UserWarning: [W108] The rule-based lemmatizer did not find POS annotation for one or more tokens. Check that your pipeline includes components that assign token.pos, typically 'tagger'+'attribute_ruler' or 'morphologizer'.\n",
      "  warnings.warn(Warnings.W108)\n",
      "Created a chunk of size 735, which is longer than the specified 700\n",
      "Created a chunk of size 1337, which is longer than the specified 700\n",
      "Created a chunk of size 716, which is longer than the specified 700\n"
     ]
    }
   ],
   "source": [
    "splitter=SpacyTextSplitter(chunk_size=700, chunk_overlap=100)\n",
    "chunks=splitter.split_documents(docs)\n",
    "\n",
    "from langchain.embeddings import HuggingFaceBgeEmbeddings\n",
    "embedding_model=HuggingFaceBgeEmbeddings(model_name=\"sentence-transformers/all-MiniLM-L6-v2\")\n",
    "vectorstore=FAISS.from_documents(chunks,embedding_model)"
   ]
  },
  {
   "cell_type": "code",
   "execution_count": null,
   "id": "7e242876",
   "metadata": {},
   "outputs": [],
   "source": [
    "ques=\"\"\"A square-thread power screw has a major diameter of 64 mm and a pitch of 4 mm with double threads, and it is to be used in screw jack.\n",
    "The given data include f = fc = 0.08, dc = 40 mm, and F = 8 kN per screw.\n",
    "(a) Find the thread depth, thread width, pitch diameter, minor diameter, and lead.\n",
    "(b) Find the torque required to raise and lower the load.\"\"\"\n",
    "\n",
    "similar=vectorstore.similarity_search(ques)\n",
    "context=\"\"\n",
    "for txt in similar:\n",
    "    context+=txt.page_content+\"\\n\"\n",
    "\n",
    "content=f\"\"\"Using the following context:<context>{context}<\\context>\\n\n",
    "Answer the following question:<question>{ques}<\\question>\\n\n",
    "Give your answer with step by step reasoning\"\"\"\n",
    "messages = [\n",
    "    {\"role\": \"user\", \"content\": content}\n",
    "]\n",
    "input_tensor = tokenizer.apply_chat_template(messages, add_generation_prompt=True, return_tensors=\"pt\")\n",
    "input=tokenizer(input_tensor,return_tensors='pt').to(deepseek_model.device)\n",
    "outputs = deepseek_model.generate(**input, max_new_tokens=3000)"
   ]
  },
  {
   "cell_type": "code",
   "execution_count": null,
   "id": "8c59b61f",
   "metadata": {},
   "outputs": [],
   "source": [
    "print(tokenizer.decode(outputs[0],skip_special_tokens=True))"
   ]
  },
  {
   "cell_type": "markdown",
   "id": "3434c8b6",
   "metadata": {},
   "source": [
    "___"
   ]
  },
  {
   "cell_type": "markdown",
   "id": "843d7db2",
   "metadata": {},
   "source": [
    "# RAG with refined text"
   ]
  },
  {
   "cell_type": "code",
   "execution_count": 15,
   "id": "ffeefc51",
   "metadata": {},
   "outputs": [],
   "source": [
    "loader = TextLoader(\"text.txt\", encoding=\"utf-8\")\n",
    "docs=loader.load()"
   ]
  },
  {
   "cell_type": "code",
   "execution_count": null,
   "id": "86216705",
   "metadata": {},
   "outputs": [],
   "source": [
    "splitter=RecursiveCharacterTextSplitter(chunk_size=700, chunk_overlap=100)\n",
    "chunks=splitter.split_documents(docs)\n",
    "\n",
    "from langchain.embeddings import HuggingFaceBgeEmbeddings\n",
    "embedding_model=HuggingFaceBgeEmbeddings(model_name=\"sentence-transformers/all-MiniLM-L6-v2\")\n",
    "vectorstore=FAISS.from_documents(chunks,embedding_model)"
   ]
  },
  {
   "cell_type": "code",
   "execution_count": null,
   "id": "d4f6466c",
   "metadata": {},
   "outputs": [],
   "source": [
    "ques=\"\"\"A square-thread power screw has a major diameter of 64 mm and a pitch of 4 mm with double threads, and it is to be used in screw jack.\n",
    "The given data include f = fc = 0.08, dc = 40 mm, and F = 8 kN per screw.\n",
    "(a) Find the thread depth, thread width, pitch diameter, minor diameter, and lead.\n",
    "(b) Find the torque required to raise and lower the load.\"\"\"\n",
    "\n",
    "similar=vectorstore.similarity_search(ques)\n",
    "context=\"\"\n",
    "for txt in similar:\n",
    "    context+=txt.page_content+\"\\n\"\n",
    "\n",
    "content=f\"\"\"Using the following context:<context>{context}<\\context>\\n\n",
    "Answer the following question:<question>{ques}<\\question>\\n\n",
    "Give your answer with step by step reasoning\"\"\"\n",
    "messages = [\n",
    "    {\"role\": \"user\", \"content\": content}\n",
    "]\n",
    "input_tensor = tokenizer.apply_chat_template(messages, add_generation_prompt=True, return_tensors=\"pt\")\n",
    "input=tokenizer(input_tensor,return_tensors='pt').to(deepseek_model.device)\n",
    "outputs = deepseek_model.generate(**input, max_new_tokens=3000)"
   ]
  },
  {
   "cell_type": "code",
   "execution_count": null,
   "id": "a8b47c1a",
   "metadata": {},
   "outputs": [],
   "source": [
    "print(tokenizer.decode(outputs[0],skip_special_tokens=True))"
   ]
  },
  {
   "cell_type": "code",
   "execution_count": null,
   "id": "b711c200",
   "metadata": {},
   "outputs": [],
   "source": [
    "splitter=TokenTextSplitter(chunk_size=700, chunk_overlap=100)\n",
    "chunks=splitter.split_documents(docs)\n",
    "\n",
    "from langchain.embeddings import HuggingFaceBgeEmbeddings\n",
    "embedding_model=HuggingFaceBgeEmbeddings(model_name=\"sentence-transformers/all-MiniLM-L6-v2\")\n",
    "vectorstore=FAISS.from_documents(chunks,embedding_model)"
   ]
  },
  {
   "cell_type": "code",
   "execution_count": null,
   "id": "1265f793",
   "metadata": {},
   "outputs": [],
   "source": [
    "ques=\"\"\"A square-thread power screw has a major diameter of 64 mm and a pitch of 4 mm with double threads, and it is to be used in screw jack.\n",
    "The given data include f = fc = 0.08, dc = 40 mm, and F = 8 kN per screw.\n",
    "(a) Find the thread depth, thread width, pitch diameter, minor diameter, and lead.\n",
    "(b) Find the torque required to raise and lower the load.\"\"\"\n",
    "\n",
    "similar=vectorstore.similarity_search(ques)\n",
    "context=\"\"\n",
    "for txt in similar:\n",
    "    context+=txt.page_content+\"\\n\"\n",
    "\n",
    "content=f\"\"\"Usning thefollowing context:<context>{context}<\\context>\\n\n",
    "Answer the following question:<question>{ques}<\\question>\\n\n",
    "Give your answer with step by step reasoning\"\"\"\n",
    "messages = [\n",
    "    {\"role\": \"user\", \"content\": content}\n",
    "]\n",
    "input_tensor = tokenizer.apply_chat_template(messages, add_generation_prompt=True, return_tensors=\"pt\")\n",
    "input=tokenizer(input_tensor,return_tensors='pt').to(deepseek_model.device)\n",
    "outputs = deepseek_model.generate(**input, max_new_tokens=3000)"
   ]
  },
  {
   "cell_type": "code",
   "execution_count": null,
   "id": "11b1852e",
   "metadata": {},
   "outputs": [],
   "source": [
    "print(tokenizer.decode(outputs[0], skip_special_tokens=True))"
   ]
  },
  {
   "cell_type": "code",
   "execution_count": null,
   "id": "f9018211",
   "metadata": {},
   "outputs": [],
   "source": [
    "splitter=SpacyTextSplitter(chunk_size=700, chunk_overlap=100)\n",
    "chunks=splitter.split_documents(docs)\n",
    "\n",
    "from langchain.embeddings import HuggingFaceBgeEmbeddings\n",
    "embedding_model=HuggingFaceBgeEmbeddings(model_name=\"sentence-transformers/all-MiniLM-L6-v2\")\n",
    "vectorstore=FAISS.from_documents(chunks,embedding_model)"
   ]
  },
  {
   "cell_type": "code",
   "execution_count": null,
   "id": "2d561262",
   "metadata": {},
   "outputs": [],
   "source": [
    "ques=\"\"\"A square-thread power screw has a major diameter of 64 mm and a pitch of 4 mm with double threads, and it is to be used in screw jack.\n",
    "The given data include f = fc = 0.08, dc = 40 mm, and F = 8 kN per screw.\n",
    "(a) Find the thread depth, thread width, pitch diameter, minor diameter, and lead.\n",
    "(b) Find the torque required to raise and lower the load.\"\"\"\n",
    "\n",
    "similar=vectorstore.similarity_search(ques)\n",
    "context=\"\"\n",
    "for txt in similar:\n",
    "    context+=txt.page_content+\"\\n\"\n",
    "\n",
    "content=f\"\"\"Usning thefollowing context:<context>{context}<\\context>\\n\n",
    "Answer the following question:<question>{ques}<\\question>\\n\n",
    "Give your answer with step by step reasoning\"\"\"\n",
    "messages = [\n",
    "    {\"role\": \"user\", \"content\": content}\n",
    "]\n",
    "input_tensor = tokenizer.apply_chat_template(messages, add_generation_prompt=True, return_tensors=\"pt\")\n",
    "input=tokenizer(input_tensor,return_tensors='pt').to(deepseek_model.device)\n",
    "outputs = deepseek_model.generate(**input, max_new_tokens=3000)"
   ]
  },
  {
   "cell_type": "code",
   "execution_count": null,
   "id": "522b51eb",
   "metadata": {},
   "outputs": [],
   "source": [
    "print(tokenizer.decode(outputs[0], skip_special_tokens=True))"
   ]
  },
  {
   "cell_type": "markdown",
   "id": "6a147dc0",
   "metadata": {},
   "source": [
    "---"
   ]
  },
  {
   "cell_type": "code",
   "execution_count": null,
   "id": "b030ddfe",
   "metadata": {},
   "outputs": [],
   "source": [
    "context=r\"\"\"the torque required to turn the screw against the load is\\n\n",
    "$T_R=\\frac{F.d_m}{2}(\\frac{l + π.f.d_m}{π.d_m - f.l})+\\frac{F.f_c.d_c}{2}$\\n\n",
    "the load-lowering torque is\\n\n",
    "$T_L=\\frac{F.d_m}{2}(\\frac{π.f.d_m - l}{π.d_m + f.l})+\\frac{F.f_c.d_c}{2}$\\n\n",
    "\n",
    "where: l=lead (is the distance the nut moves parallel to the screw axis when the nut is given one turn.) =n*p\n",
    "$d_m$=pitch diameter in mm = major diameter- pitch/2\n",
    "\n",
    "thread depth=thread width, for a square thread screw. \n",
    "$efficiency=\\frac{F*l}{2*π*T_R}$\n",
    "\"\"\""
   ]
  },
  {
   "cell_type": "code",
   "execution_count": null,
   "id": "9322713e",
   "metadata": {},
   "outputs": [],
   "source": [
    "input_text = f\"\"\"Using the following context:<context>{context}<\\context>\n",
    "Solve the following question:<question>\n",
    "A square-thread power screw has a major diameter of 32 mm and a pitch of 4 mm with double threads.\n",
    "The given data include f = fc = 0.08, dc = 40 mm, and F = 6.4 kN per screw.\n",
    "(a) Find the thread depth, thread width, pitch diameter, minor diameter, and lead.\n",
    "(b) Find the torque required to raise and lower the load.<\\question>\\n\\n\\n\n",
    "First reason then give your answer in steps. Do the calculation in steps.\"\"\"\n",
    "input_ids = tokenizer(input_text, return_tensors=\"pt\")\n",
    "\n",
    "outputs = deepseek_model.generate(**input_ids,max_new_tokens=2000)\n",
    "# print(tokenizer.decode(outputs[0]))\n",
    "Latex(tokenizer.decode(outputs[0]))"
   ]
  },
  {
   "cell_type": "code",
   "execution_count": null,
   "id": "231c4624",
   "metadata": {},
   "outputs": [],
   "source": [
    "input_text = f\"\"\"Using the following context:<context>{context}<\\context>\n",
    "Solve the following question:<question>\n",
    "A square-thread power screw has a major diameter of 32 mm and a pitch of 4 mm with double threads.\n",
    "The given data include f = fc = 0.08, dc = 40 mm, and F = 6.4 kN per screw.\n",
    "(a) Find the thread depth, thread width, pitch diameter, minor diameter, and lead.\n",
    "(b) Find the torque required to raise and lower the load.<\\question>\\n\\n\\n\n",
    "(c) Find the efficiency during lifting the load.\n",
    "First reason then give your answer in steps. Do the calculation in steps.\"\"\"\n",
    "input_ids = tokenizer(input_text, return_tensors=\"pt\")\n",
    "\n",
    "outputs = deepseek_model.generate(**input_ids,max_new_tokens=2000)\n",
    "# print(tokenizer.decode(outputs[0]))\n",
    "Latex(tokenizer.decode(outputs[0]))"
   ]
  }
 ],
 "metadata": {
  "kernelspec": {
   "display_name": ".venv",
   "language": "python",
   "name": "python3"
  },
  "language_info": {
   "codemirror_mode": {
    "name": "ipython",
    "version": 3
   },
   "file_extension": ".py",
   "mimetype": "text/x-python",
   "name": "python",
   "nbconvert_exporter": "python",
   "pygments_lexer": "ipython3",
   "version": "3.11.9"
  }
 },
 "nbformat": 4,
 "nbformat_minor": 5
}
